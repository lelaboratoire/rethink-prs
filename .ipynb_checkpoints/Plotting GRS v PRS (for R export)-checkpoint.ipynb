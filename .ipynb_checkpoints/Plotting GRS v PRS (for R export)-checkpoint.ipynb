{
 "cells": [
  {
   "cell_type": "markdown",
   "metadata": {},
   "source": [
    "# GRS Trial 1\n",
    "---\n",
    "## Modifying Traditional Polygenic Risk Scores\n",
    "\n",
    "In particular, we work with Single Nucleotide Polymorphisms (SNPs) which are individual genetic variants that cause mutations and/or regulatory changes to protein expression levels, affecting phenotype. In this problem, we are interested in isolating the effect of individual SNP markers on the patient's risk of breast cancer.\n",
    "\n",
    "Existing polygenic risk scores represent the weighted sum of all risk alleles carried by an individual. \n",
    "$$PRS=\\sum_{i=1}^{29} \\beta_i \\cdot SNP_i$$\n",
    "\n",
    "We are interesting in fitting models to our data in order to best evaluate a PRS score with different beta values. More formally, our lab represents this as the feature score, FS, for each beta value.\n",
    "\n",
    "$$GRS=\\sum_{i=1}^{29} FS_i \\cdot \\beta_i \\cdot SNP_i$$\n",
    "\n",
    "## Heuristic Identification of Biological Architectures for simulating Complex Hierarchical Interactions (HIBACHI)\n",
    "\n",
    "HIBACHI gives us simulated data to play with. \n"
   ]
  },
  {
   "cell_type": "code",
   "execution_count": 4,
   "metadata": {},
   "outputs": [
    {
     "name": "stdout",
     "output_type": "stream",
     "text": [
      "Warning: xgboost.XGBClassifier is not available and will not be used by TPOT.\n"
     ]
    },
    {
     "data": {
      "application/vnd.jupyter.widget-view+json": {
       "model_id": "f4942d34bee44529b9266a0b269947dc",
       "version_major": 2,
       "version_minor": 0
      },
      "text/plain": [
       "HBox(children=(IntProgress(value=0, description='Optimization Progress', style=ProgressStyle(description_width…"
      ]
     },
     "metadata": {},
     "output_type": "display_data"
    },
    {
     "name": "stdout",
     "output_type": "stream",
     "text": [
      "Generation 1 - Current best internal CV score: 0.5649548168632541\n",
      "Generation 2 - Current best internal CV score: 0.5649548168632541\n",
      "Generation 3 - Current best internal CV score: 0.5649661342814681\n",
      "\n",
      "5.06352775 minutes have elapsed. TPOT will close down.\n",
      "TPOT closed during evaluation in one generation.\n",
      "WARNING: TPOT may not provide a good pipeline if TPOT is stopped/interrupted in a early generation.\n",
      "\n",
      "\n",
      "TPOT closed prematurely. Will use the current best pipeline.\n",
      "\n",
      "Best pipeline: BernoulliNB(FeatureAgglomeration(input_matrix, affinity=l1, linkage=complete), alpha=0.001, fit_prior=True)\n"
     ]
    }
   ],
   "source": [
    "from tpot import TPOTClassifier\n",
    "from sklearn.model_selection import train_test_split\n",
    "import pandas as pd\n",
    "import numpy as np\n",
    "import eli5\n",
    "from eli5.sklearn import PermutationImportance\n",
    "\n",
    "bcdata = pd.read_csv('~/Documents/MooreLab/VgMed/breastCancer29.csv')\n",
    "\n",
    "Xdata = bcdata.loc[:, bcdata.columns != 'phenotype']\n",
    "Ydata = bcdata['phenotype']\n",
    "X_train, X_test, Y_train, Y_test = train_test_split(Xdata, Ydata, random_state=42,\n",
    "                                                    train_size=0.75, test_size=0.25)\n",
    "\n",
    "model = TPOTClassifier(generations=100, population_size=100, verbosity=2, max_time_mins=5, early_stop=5)\n",
    "model = model.fit(X_train, Y_train)"
   ]
  },
  {
   "cell_type": "code",
   "execution_count": 10,
   "metadata": {},
   "outputs": [
    {
     "name": "stdout",
     "output_type": "stream",
     "text": [
      "(29, 1)\n",
      "(626, 29)\n"
     ]
    },
    {
     "data": {
      "text/plain": [
       "0.03824380628908271"
      ]
     },
     "execution_count": 10,
     "metadata": {},
     "output_type": "execute_result"
    }
   ],
   "source": [
    "# Coefficients from logit regression forms Betas for PRS function\n",
    "\n",
    "from sklearn.linear_model import LogisticRegression\n",
    "LogisticRegression(solver='lbfgs')\n",
    "import warnings\n",
    "warnings.filterwarnings(\"ignore\")\n",
    "\n",
    "# initialize list of betas to be a matrix. Each is the coefficient of the logit model, on each SNP/feature\n",
    "listofbetas = []\n",
    "for i in range(X_train.shape[1]):\n",
    "    logit = LogisticRegression()\n",
    "    logit.fit(X_train, Y_train)\n",
    "    beta = logit.coef_.flatten()[i]\n",
    "    listofbetas.append(beta)\n",
    "    \n",
    "beta_matrix = np.matrix(listofbetas).transpose()\n",
    "y_matrix = np.matrix(X_test)\n",
    "# beta_matrix.shape == (29,1)\n",
    "# y_matrix.shape == (626, 29)\n",
    "PRS = y_matrix * beta_matrix\n",
    "\n",
    "print(beta_matrix.shape)\n",
    "print(y_matrix.shape)\n",
    "beta_prob_val = y_matrix * beta_matrix # np.array(beta_prob_val)[0][0]\n",
    "beta_prob_val = np.array(beta_prob_val)[0][0]\n",
    "beta_prob_val"
   ]
  },
  {
   "cell_type": "code",
   "execution_count": 11,
   "metadata": {},
   "outputs": [],
   "source": [
    "# Using Permutation Importance Scores as means to obtain GRS\n",
    "# https://eli5.readthedocs.io/en/latest/blackbox/permutation_importance.html\n",
    "\n",
    "perm = PermutationImportance(model, n_iter=100).fit(X_train, Y_train)\n",
    "feat_imp = perm.feature_importances_\n",
    "feat_name = X_train.columns.values\n",
    "importance_df = pd.DataFrame({'feature': feat_name, 'score': feat_imp})\n",
    "importance_df.sort_values('score', ascending = False)\n",
    "\n",
    "scalar = np.matrix(feat_imp).flatten().transpose()\n",
    "beta_FS = np.multiply(scalar, beta_matrix)\n",
    "GRS = y_matrix * beta_FS\n"
   ]
  },
  {
   "cell_type": "code",
   "execution_count": 12,
   "metadata": {},
   "outputs": [
    {
     "name": "stdout",
     "output_type": "stream",
     "text": [
      "(626, 1)\n",
      "(626, 1)\n"
     ]
    }
   ],
   "source": [
    "print(PRS.shape)\n",
    "print(GRS.shape)"
   ]
  },
  {
   "cell_type": "code",
   "execution_count": 13,
   "metadata": {},
   "outputs": [],
   "source": [
    "PRS_df = pd.DataFrame(PRS, columns=['PRS_score'])\n",
    "GRS_df = pd.DataFrame(GRS, columns=['GRS_score'])\n",
    "phenotypes = pd.DataFrame(Y_test).reset_index().rename(columns={'index':'subject_id'})\n",
    "sub_ids = pd.DataFrame(X_test.index.values, columns=[\"subject_id\"])"
   ]
  },
  {
   "cell_type": "code",
   "execution_count": 14,
   "metadata": {},
   "outputs": [
    {
     "name": "stdout",
     "output_type": "stream",
     "text": [
      "(626, 1)\n",
      "(626, 1)\n",
      "(626, 2)\n",
      "(626, 1)\n"
     ]
    }
   ],
   "source": [
    "print(PRS_df.shape)\n",
    "print(GRS_df.shape)\n",
    "print(phenotypes.shape)\n",
    "print(sub_ids.shape)"
   ]
  },
  {
   "cell_type": "code",
   "execution_count": 15,
   "metadata": {},
   "outputs": [
    {
     "data": {
      "text/html": [
       "<div>\n",
       "<style scoped>\n",
       "    .dataframe tbody tr th:only-of-type {\n",
       "        vertical-align: middle;\n",
       "    }\n",
       "\n",
       "    .dataframe tbody tr th {\n",
       "        vertical-align: top;\n",
       "    }\n",
       "\n",
       "    .dataframe thead th {\n",
       "        text-align: right;\n",
       "    }\n",
       "</style>\n",
       "<table border=\"1\" class=\"dataframe\">\n",
       "  <thead>\n",
       "    <tr style=\"text-align: right;\">\n",
       "      <th></th>\n",
       "      <th>subject_id</th>\n",
       "      <th>PRS_score</th>\n",
       "      <th>GRS_score</th>\n",
       "      <th>phenotype</th>\n",
       "    </tr>\n",
       "  </thead>\n",
       "  <tbody>\n",
       "    <tr>\n",
       "      <th>0</th>\n",
       "      <td>1835</td>\n",
       "      <td>0.038244</td>\n",
       "      <td>-0.000106</td>\n",
       "      <td>1</td>\n",
       "    </tr>\n",
       "    <tr>\n",
       "      <th>1</th>\n",
       "      <td>252</td>\n",
       "      <td>0.117780</td>\n",
       "      <td>0.000089</td>\n",
       "      <td>1</td>\n",
       "    </tr>\n",
       "    <tr>\n",
       "      <th>2</th>\n",
       "      <td>1594</td>\n",
       "      <td>0.109034</td>\n",
       "      <td>-0.000160</td>\n",
       "      <td>0</td>\n",
       "    </tr>\n",
       "    <tr>\n",
       "      <th>3</th>\n",
       "      <td>430</td>\n",
       "      <td>0.075651</td>\n",
       "      <td>-0.000005</td>\n",
       "      <td>0</td>\n",
       "    </tr>\n",
       "    <tr>\n",
       "      <th>4</th>\n",
       "      <td>1356</td>\n",
       "      <td>0.020889</td>\n",
       "      <td>0.000016</td>\n",
       "      <td>1</td>\n",
       "    </tr>\n",
       "  </tbody>\n",
       "</table>\n",
       "</div>"
      ],
      "text/plain": [
       "   subject_id  PRS_score  GRS_score  phenotype\n",
       "0        1835   0.038244  -0.000106          1\n",
       "1         252   0.117780   0.000089          1\n",
       "2        1594   0.109034  -0.000160          0\n",
       "3         430   0.075651  -0.000005          0\n",
       "4        1356   0.020889   0.000016          1"
      ]
     },
     "execution_count": 15,
     "metadata": {},
     "output_type": "execute_result"
    }
   ],
   "source": [
    "final_df = pd.concat([sub_ids, PRS_df, GRS_df], axis=1)\n",
    "final_df = final_df.merge(phenotypes, on=\"subject_id\")\n",
    "final_df.head(5)"
   ]
  },
  {
   "cell_type": "code",
   "execution_count": 16,
   "metadata": {},
   "outputs": [],
   "source": [
    "final_df.to_csv('PRS_GRS_scores.csv', index=False)"
   ]
  }
 ],
 "metadata": {
  "kernelspec": {
   "display_name": "Python 3",
   "language": "python",
   "name": "python3"
  },
  "language_info": {
   "codemirror_mode": {
    "name": "ipython",
    "version": 3
   },
   "file_extension": ".py",
   "mimetype": "text/x-python",
   "name": "python",
   "nbconvert_exporter": "python",
   "pygments_lexer": "ipython3",
   "version": "3.7.1"
  }
 },
 "nbformat": 4,
 "nbformat_minor": 2
}
