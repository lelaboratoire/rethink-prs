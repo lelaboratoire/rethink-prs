{
 "cells": [
  {
   "cell_type": "markdown",
   "metadata": {},
   "source": [
    "## GRS Attemp 2\n",
    "---\n",
    "#### OS\n",
    "This aims to..."
   ]
  },
  {
   "cell_type": "code",
   "execution_count": null,
   "metadata": {},
   "outputs": [],
   "source": [
    "import os\n",
    "import glob \n",
    "\n",
    "path = '/Users/hoytgong/Documents/MooreLab/PRS_GRS'\n",
    "extension = 'csv'\n",
    "os.chdir(path + \"hibachi-gwas-datasets/\")\n",
    "data_sets = [i.replace(\".csv\", \"\") for i in glob.glob('*.{}'.format(extension))]\n",
    "os.chdir(path)\n",
    "\n",
    "for dat_name in data_sets:\n",
    "    accuracy_ls = []\n",
    "    tpot_data = pd.read_csv(path + \"csv_data_300/\" + dat_name + '.csv')\n",
    "    Xdata = tpot_data.loc[:, tpot_data.columns != 'Class']\n",
    "    Ydata = tpot_data['Class']\n",
    "    X_train, X_test, y_train, y_test = train_test_split(Xdata, Ydata,\n",
    "                                                        train_size=0.75, test_size=0.25)\n",
    "\n",
    "    tpot = TPOTClassifier(generations=100,\n",
    "                          population_size=100, verbosity=2)\n",
    "\n",
    "    tpot.fit(X_train, y_train)\n",
    "    accuracy_ls.append([tpot._optimized_pipeline_score, tpot.score(X_test, y_test)])\n",
    "    tpot.export('pipelines/' + dat_name + '.py')\n",
    "\n",
    "    accuracy_mat = pd.DataFrame(accuracy_ls, columns = ['Training CV Accuracy', 'Testing Accuracy'])\n",
    "    accuracy_mat.to_csv(\"accuracies/\" + dat_name + \".csv\", sep = \"\\t\")"
   ]
  }
 ],
 "metadata": {
  "kernelspec": {
   "display_name": "Python 3",
   "language": "python",
   "name": "python3"
  },
  "language_info": {
   "codemirror_mode": {
    "name": "ipython",
    "version": 3
   },
   "file_extension": ".py",
   "mimetype": "text/x-python",
   "name": "python",
   "nbconvert_exporter": "python",
   "pygments_lexer": "ipython3",
   "version": "3.7.1"
  }
 },
 "nbformat": 4,
 "nbformat_minor": 2
}
