{
 "cells": [
  {
   "cell_type": "code",
   "execution_count": 1,
   "metadata": {},
   "outputs": [],
   "source": [
    "import argparse\n",
    "import sys\n",
    "import pandas as pd\n",
    "from mdr import utils\n",
    "import os\n",
    "import glob"
   ]
  },
  {
   "cell_type": "code",
   "execution_count": 2,
   "metadata": {},
   "outputs": [
    {
     "name": "stdout",
     "output_type": "stream",
     "text": [
      "['hibachi-res_GaussianNB_KNeighborsClassifier-s76457_0.168.txt', 'hibachi-res_RandomForestClassifier_LogisticRegression-s45571_0.617.txt', 'hibachi-res_DecisionTreeClassifier_ExtraTreesClassifier-s54127_0.158.txt', 'hibachi-res_BernoulliNB_GradientBoostingClassifier-s57961_0.096.txt', 'hibachi-res_XGBClassifier_DecisionTreeClassifier-s33039_0.473.txt', 'hibachi-res_ExtraTreesClassifier_GaussianNB-s38309_0.598.txt', 'hibachi-res_KNeighborsClassifier_LogisticRegression-s66137_0.549.txt', 'hibachi-res_XGBClassifier_GradientBoostingClassifier-s19903_0.460.txt', 'hibachi-res_ExtraTreesClassifier_GaussianNB-s99335_0.582.txt', 'hibachi-res_LogisticRegression_MLPClassifier-s52096_0.104.txt']\n"
     ]
    }
   ],
   "source": [
    "# /Users/ttle/Documents/github-repos/rethink-prs/analysis\n",
    "path = '/Users/ttle/Documents/github-repos/rethink-prs/analysis/'\n",
    "dat_path = '../mb-mdr/reformatted-data/train/'\n",
    "extension = 'txt'\n",
    "os.chdir(path + dat_path)\n",
    "data_sets = [i for i in glob.glob('*.{}'.format(extension))]\n",
    "print(data_sets[0:10])\n",
    "os.chdir(path)"
   ]
  },
  {
   "cell_type": "code",
   "execution_count": 4,
   "metadata": {},
   "outputs": [],
   "source": [
    "info_gain_vec = []\n",
    "mutual_info_1d_vec = []\n",
    "my_sets = []\n",
    "for dat_name in data_sets:\n",
    "    df = pd.read_csv(path + dat_path + dat_name, sep = '\\t')\n",
    "    Z = df.columns.values[0]\n",
    "    infoGainSum = 0\n",
    "    mutual_info_1d = 0\n",
    "    for i,X in enumerate(df.columns.values):\n",
    "        mutual_info_1d = mutual_info_1d + utils.mutual_information(df[X], df[Z], base=2)\n",
    "        \n",
    "        for j,Y in enumerate(df.columns.values):\n",
    "            if (i>0 and i<j):\n",
    "                infoGain = utils.two_way_information_gain(df[X], df[Y], df[Z], base=2)\n",
    "                infoGainSum = infoGainSum + infoGain\n",
    "                \n",
    "\n",
    "    my_sets.append(dat_name)\n",
    "    info_gain_vec.append(infoGainSum)\n",
    "    mutual_info_1d_vec.append(mutual_info_1d)"
   ]
  },
  {
   "cell_type": "code",
   "execution_count": 5,
   "metadata": {
    "scrolled": true
   },
   "outputs": [],
   "source": [
    "info_gain_mat = pd.DataFrame(info_gain_vec, index = my_sets)\n",
    "mutual_info_1d_mat = pd.DataFrame(mutual_info_1d_vec, index = my_sets)"
   ]
  },
  {
   "cell_type": "code",
   "execution_count": 6,
   "metadata": {},
   "outputs": [],
   "source": [
    "info_gain_mat.to_csv('../results/information_gain.csv', header = False)\n",
    "mutual_info_1d_mat.to_csv('../results/mutual_infomation_1d.csv', header = False)"
   ]
  },
  {
   "cell_type": "code",
   "execution_count": null,
   "metadata": {},
   "outputs": [],
   "source": [
    "df.columns.values"
   ]
  },
  {
   "cell_type": "code",
   "execution_count": null,
   "metadata": {},
   "outputs": [],
   "source": [
    "    \n",
    "# def main(argv):\n",
    "#     df = pd.read_csv(argv[1], sep='\\t')\n",
    "#     Z = df.columns.values[0]\n",
    "#     infoGainSum = 0\n",
    "#     for i,X in enumerate(df.columns.values):\n",
    "#         for j,Y in enumerate(df.columns.values):\n",
    "#             if (i>0 and i<j):\n",
    "#                 infoGain = utils.two_way_information_gain(df[X], df[Y], Z, base=2)\n",
    "#                 print(X + '\\t' + Y + '\\t' + str(infoGain))\n",
    "#                 infoGainSum = infoGainSum + infoGain\n",
    "#     print('\\n' + argv[1]+ '\\t' + str(infoGainSum))\n",
    "# if __name__ == '__main__':\n",
    "#     sys.exit(main(sys.argv))   "
   ]
  }
 ],
 "metadata": {
  "kernelspec": {
   "display_name": "Python 3",
   "language": "python",
   "name": "python3"
  },
  "language_info": {
   "codemirror_mode": {
    "name": "ipython",
    "version": 3
   },
   "file_extension": ".py",
   "mimetype": "text/x-python",
   "name": "python",
   "nbconvert_exporter": "python",
   "pygments_lexer": "ipython3",
   "version": "3.6.7"
  }
 },
 "nbformat": 4,
 "nbformat_minor": 2
}
